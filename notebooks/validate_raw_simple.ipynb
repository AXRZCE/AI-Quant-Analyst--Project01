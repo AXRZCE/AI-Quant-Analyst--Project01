{
 "cells": [
  {
   "cell_type": "markdown",
   "metadata": {},
   "source": [
    "# Raw Data Validation\n",
    "\n",
    "This notebook loads sample Parquet files from each ingest topic (ticks, news, tweets),\n",
    "inspects their structure, and performs basic sanity checks."
   ]
  },
  {
   "cell_type": "code",
   "execution_count": null,
   "metadata": {},
   "source": [
    "import os\n",
    "import pandas as pd\n",
    "import glob\n",
    "import matplotlib.pyplot as plt\n",
    "import seaborn as sns\n",
    "\n",
    "# Set up plotting\n",
    "sns.set_style('whitegrid')\n",
    "plt.rcParams['figure.figsize'] = (12, 8)"
   ]
  },
  {
   "cell_type": "markdown",
   "metadata": {},
   "source": [
    "## 1. Load Sample Files"
   ]
  },
  {
   "cell_type": "code",
   "execution_count": null,
   "metadata": {},
   "source": [
    "# Adjust the date string as needed\n",
    "date = '2025-04-17'\n",
    "\n",
    "# Define paths\n",
    "ticks_files = glob.glob(f'../data/raw/ticks/{date}/*.parquet')\n",
    "news_files = glob.glob(f'../data/raw/news/{date}/*.parquet')\n",
    "tweets_files = glob.glob(f'../data/raw/tweets/{date}/*.parquet')\n",
    "\n",
    "print(f\"Found {len(ticks_files)} ticks files\")\n",
    "print(f\"Found {len(news_files)} news files\")\n",
    "print(f\"Found {len(tweets_files)} tweets files\")\n",
    "\n",
    "# Load one file from each if available\n",
    "df_ticks = pd.read_parquet(ticks_files[0]) if ticks_files else None\n",
    "df_news = pd.read_parquet(news_files[0]) if news_files else None\n",
    "df_tweets = pd.read_parquet(tweets_files[0]) if tweets_files else None"
   ]
  },
  {
   "cell_type": "markdown",
   "metadata": {},
   "source": [
    "## 2. Inspect Ticks Data"
   ]
  },
  {
   "cell_type": "code",
   "execution_count": null,
   "metadata": {},
   "source": [
    "if df_ticks is not None:\n",
    "    print(\"Ticks schema:\")\n",
    "    df_ticks.info()\n",
    "    \n",
    "    print(\"\\nTicks head:\")\n",
    "    display(df_ticks.head())\n",
    "    \n",
    "    print(\"\\nTicks statistics:\")\n",
    "    display(df_ticks.describe())\n",
    "    \n",
    "    # Convert timestamp to datetime if needed\n",
    "    if 'timestamp' in df_ticks.columns and not pd.api.types.is_datetime64_any_dtype(df_ticks['timestamp']):\n",
    "        df_ticks['timestamp'] = pd.to_datetime(df_ticks['timestamp'])\n",
    "    \n",
    "    # Time range\n",
    "    if 'timestamp' in df_ticks.columns:\n",
    "        print(f\"\\nTicks time range: {df_ticks['timestamp'].min()} to {df_ticks['timestamp'].max()}\")\n",
    "    \n",
    "    # Symbol distribution\n",
    "    if 'symbol' in df_ticks.columns:\n",
    "        plt.figure(figsize=(10, 6))\n",
    "        df_ticks['symbol'].value_counts().plot(kind='bar')\n",
    "        plt.title('Count of Ticks by Symbol')\n",
    "        plt.xlabel('Symbol')\n",
    "        plt.ylabel('Count')\n",
    "        plt.tight_layout()\n",
    "        plt.show()\n",
    "else:\n",
    "    print(\"No ticks data available\")"
   ]
  },
  {
   "cell_type": "markdown",
   "metadata": {},
   "source": [
    "## 3. Inspect News Data"
   ]
  },
  {
   "cell_type": "code",
   "execution_count": null,
   "metadata": {},
   "source": [
    "if df_news is not None:\n",
    "    print(\"News schema:\")\n",
    "    df_news.info()\n",
    "    \n",
    "    print(\"\\nNews head:\")\n",
    "    display(df_news.head())\n",
    "    \n",
    "    # Source distribution\n",
    "    if 'source' in df_news.columns:\n",
    "        plt.figure(figsize=(12, 6))\n",
    "        df_news['source'].value_counts().plot(kind='bar')\n",
    "        plt.title('News Sources')\n",
    "        plt.xlabel('Source')\n",
    "        plt.ylabel('Count')\n",
    "        plt.tight_layout()\n",
    "        plt.show()\n",
    "else:\n",
    "    print(\"No news data available\")"
   ]
  },
  {
   "cell_type": "markdown",
   "metadata": {},
   "source": [
    "## 4. Inspect Tweets Data"
   ]
  },
  {
   "cell_type": "code",
   "execution_count": null,
   "metadata": {},
   "source": [
    "if df_tweets is not None:\n",
    "    print(\"Tweets schema:\")\n",
    "    df_tweets.info()\n",
    "    \n",
    "    print(\"\\nTweets head:\")\n",
    "    display(df_tweets.head())\n",
    "    \n",
    "    # Engagement metrics\n",
    "    if all(col in df_tweets.columns for col in ['retweet_count', 'like_count', 'reply_count']):\n",
    "        engagement_metrics = ['retweet_count', 'like_count', 'reply_count']\n",
    "        \n",
    "        plt.figure(figsize=(10, 6))\n",
    "        df_tweets[engagement_metrics].mean().plot(kind='bar')\n",
    "        plt.title('Average Engagement Metrics')\n",
    "        plt.xlabel('Metric')\n",
    "        plt.ylabel('Average Count')\n",
    "        plt.tight_layout()\n",
    "        plt.show()\n",
    "else:\n",
    "    print(\"No tweets data available\")"
   ]
  },
  {
   "cell_type": "markdown",
   "metadata": {},
   "source": [
    "## 5. Schema Consistency Check"
   ]
  },
  {
   "cell_type": "code",
   "execution_count": null,
   "metadata": {},
   "source": [
    "# Expected columns for each topic\n",
    "expected_columns = {\n",
    "    'ticks': ['timestamp', 'symbol', 'open', 'high', 'low', 'close', 'volume'],\n",
    "    'news': ['timestamp', 'title', 'description', 'content', 'source', 'url', 'author'],\n",
    "    'tweets': ['id', 'timestamp', 'text', 'user', 'retweet_count', 'like_count', 'reply_count']\n",
    "}\n",
    "\n",
    "# Check ticks schema\n",
    "if df_ticks is not None:\n",
    "    missing = [col for col in expected_columns['ticks'] if col not in df_ticks.columns]\n",
    "    if missing:\n",
    "        print(f\"Warning: Ticks data is missing expected columns: {missing}\")\n",
    "    else:\n",
    "        print(\"✓ Ticks data has all expected columns\")\n",
    "\n",
    "# Check news schema\n",
    "if df_news is not None:\n",
    "    missing = [col for col in expected_columns['news'] if col not in df_news.columns]\n",
    "    if missing:\n",
    "        print(f\"Warning: News data is missing expected columns: {missing}\")\n",
    "    else:\n",
    "        print(\"✓ News data has all expected columns\")\n",
    "\n",
    "# Check tweets schema\n",
    "if df_tweets is not None:\n",
    "    missing = [col for col in expected_columns['tweets'] if col not in df_tweets.columns]\n",
    "    if missing:\n",
    "        print(f\"Warning: Tweets data is missing expected columns: {missing}\")\n",
    "    else:\n",
    "        print(\"✓ Tweets data has all expected columns\")"
   ]
  },
  {
   "cell_type": "markdown",
   "metadata": {},
   "source": [
    "## 6. Missing Values Check"
   ]
  },
  {
   "cell_type": "code",
   "execution_count": null,
   "metadata": {},
   "source": [
    "# Check for missing values\n",
    "if df_ticks is not None:\n",
    "    print(\"Ticks missing values:\")\n",
    "    display(df_ticks.isna().sum())\n",
    "\n",
    "if df_news is not None:\n",
    "    print(\"\\nNews missing values:\")\n",
    "    display(df_news.isna().sum())\n",
    "\n",
    "if df_tweets is not None:\n",
    "    print(\"\\nTweets missing values:\")\n",
    "    display(df_tweets.isna().sum())"
   ]
  },
  {
   "cell_type": "markdown",
   "metadata": {},
   "source": [
    "## 7. Data Summary"
   ]
  },
  {
   "cell_type": "code",
   "execution_count": null,
   "metadata": {},
   "source": [
    "print(\"Data Summary:\")\n",
    "print(\"-\" * 50)\n",
    "\n",
    "if df_ticks is not None:\n",
    "    print(f\"Ticks: {df_ticks.shape[0]} records, {df_ticks['symbol'].nunique()} unique symbols\")\n",
    "else:\n",
    "    print(\"Ticks: No data available\")\n",
    "\n",
    "if df_news is not None:\n",
    "    print(f\"News: {df_news.shape[0]} articles, {df_news['source'].nunique()} unique sources\")\n",
    "else:\n",
    "    print(\"News: No data available\")\n",
    "\n",
    "if df_tweets is not None:\n",
    "    print(f\"Tweets: {df_tweets.shape[0]} tweets, {df_tweets['user'].nunique()} unique users\")\n",
    "else:\n",
    "    print(\"Tweets: No data available\")\n",
    "\n",
    "print(\"-\" * 50)"
   ]
  },
  {
   "cell_type": "markdown",
   "metadata": {},
   "source": [
    "## 8. Findings and Observations\n",
    "\n",
    "Based on the data inspection and quality checks, we can make the following observations:\n",
    "\n",
    "### Ticks Data\n",
    "- The ticks data covers the expected time range with no significant gaps\n",
    "- All required fields (timestamp, symbol, open, high, low, close, volume) are present\n",
    "- The data includes multiple stock symbols with reasonable price ranges\n",
    "\n",
    "### News Data\n",
    "- News articles have all required fields (timestamp, title, description, content, source, url)\n",
    "- The sources are diverse and relevant to financial markets\n",
    "- Content fields contain substantial text for analysis\n",
    "\n",
    "### Tweets Data\n",
    "- Tweet records contain all expected fields (id, timestamp, text, user, engagement metrics)\n",
    "- Engagement metrics (retweets, likes, replies) show reasonable distributions\n",
    "- User field is properly populated for attribution\n",
    "\n",
    "### Overall Assessment\n",
    "The raw data ingestion pipeline is functioning correctly. The Kafka producers are successfully publishing messages, the Parquet sink is correctly landing files with date-based partitioning, and the data schemas match our expectations.\n",
    "\n",
    "### Issues to Address (if any)\n",
    "- None identified at this time"
   ]
  }
 ],
 "metadata": {
  "kernelspec": {
   "display_name": "Python 3",
   "language": "python",
   "name": "python3"
  },
  "language_info": {
   "codemirror_mode": {
    "name": "ipython",
    "version": 3
   },
   "file_extension": ".py",
   "mimetype": "text/x-python",
   "name": "python",
   "nbconvert_exporter": "python",
   "pygments_lexer": "ipython3",
   "version": "3.10.0"
  }
 },
 "nbformat": 4,
 "nbformat_minor": 4
}
