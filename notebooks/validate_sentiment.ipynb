{
 "cells": [
  {
   "cell_type": "markdown",
   "metadata": {},
   "source": [
    "# Validate Sentiment Analysis\n",
    "\n",
    "This notebook validates the FinBERT sentiment analysis for financial news."
   ]
  },
  {
   "cell_type": "code",
   "execution_count": null,
   "metadata": {},
   "source": [
    "import os\n",
    "import sys\n",
    "import pandas as pd\n",
    "import numpy as np\n",
    "import matplotlib.pyplot as plt\n",
    "import seaborn as sns\n",
    "from datetime import datetime, timedelta\n",
    "from glob import glob\n",
    "\n",
    "# Add src directory to path\n",
    "sys.path.append('../src')\n",
    "\n",
    "# Import local modules\n",
    "from nlp.finbert_sentiment import FinBERTSentiment\n",
    "from etl.news_sentiment import compute_news_sentiment, aggregate_sentiment_by_symbol\n",
    "\n",
    "# Set up plotting\n",
    "sns.set_style('whitegrid')\n",
    "plt.rcParams['figure.figsize'] = (12, 8)"
   ]
  },
  {
   "cell_type": "markdown",
   "metadata": {},
   "source": [
    "## 1. Test FinBERT Sentiment Analyzer\n",
    "\n",
    "First, let's test the FinBERT sentiment analyzer on some sample financial news."
   ]
  },
  {
   "cell_type": "code",
   "execution_count": null,
   "metadata": {},
   "source": [
    "# Initialize the FinBERT sentiment analyzer\n",
    "analyzer = FinBERTSentiment()\n",
    "\n",
    "# Sample financial news\n",
    "sample_news = [\n",
    "    \"Apple reports record quarterly revenue, beating analyst expectations.\",\n",
    "    \"Microsoft shares plunge after disappointing earnings report.\",\n",
    "    \"Google announces new AI features for its search engine.\",\n",
    "    \"Amazon faces regulatory scrutiny over antitrust concerns.\",\n",
    "    \"Tesla's stock remains volatile amid production challenges.\"\n",
    "]\n",
    "\n",
    "# Analyze sentiment\n",
    "results = analyzer.analyze_with_text(sample_news)\n",
    "\n",
    "# Display results\n",
    "for result in results:\n",
    "    text = result.pop(\"text\")\n",
    "    sentiment_label = max(result.items(), key=lambda x: x[1])[0]\n",
    "    sentiment_score = result.get(\"positive\", 0) - result.get(\"negative\", 0)\n",
    "    \n",
    "    print(f\"Text: {text}\")\n",
    "    print(f\"Sentiment: {sentiment_label} (score: {sentiment_score:.2f})\")\n",
    "    print(f\"Probabilities: {result}\")\n",
    "    print()"
   ]
  },
  {
   "cell_type": "code",
   "execution_count": null,
   "metadata": {},
   "source": [
    "# Create a DataFrame with the results\n",
    "results_df = pd.DataFrame(results)\n",
    "results_df[\"text\"] = sample_news\n",
    "results_df[\"sentiment_score\"] = results_df[\"positive\"] - results_df[\"negative\"]\n",
    "results_df[\"sentiment_label\"] = results_df[[\"positive\", \"neutral\", \"negative\"]].idxmax(axis=1)\n",
    "\n",
    "# Display the DataFrame\n",
    "results_df"
   ]
  },
  {
   "cell_type": "code",
   "execution_count": null,
   "metadata": {},
   "source": [
    "# Plot sentiment scores\n",
    "plt.figure(figsize=(12, 6))\n",
    "plt.bar(range(len(results_df)), results_df[\"sentiment_score\"])\n",
    "plt.xticks(range(len(results_df)), results_df[\"text\"], rotation=45, ha=\"right\")\n",
    "plt.title(\"Sentiment Scores for Sample News\")\n",
    "plt.xlabel(\"News\")\n",
    "plt.ylabel(\"Sentiment Score (positive - negative)\")\n",
    "plt.axhline(y=0, color=\"r\", linestyle=\"-\", alpha=0.3)\n",
    "plt.tight_layout()\n",
    "plt.show()"
   ]
  },
  {
   "cell_type": "code",
   "execution_count": null,
   "metadata": {},
   "source": [
    "# Plot sentiment probabilities\n",
    "plt.figure(figsize=(12, 6))\n",
    "x = range(len(results_df))\n",
    "width = 0.25\n",
    "\n",
    "plt.bar([i - width for i in x], results_df[\"positive\"], width=width, label=\"Positive\")\n",
    "plt.bar(x, results_df[\"neutral\"], width=width, label=\"Neutral\")\n",
    "plt.bar([i + width for i in x], results_df[\"negative\"], width=width, label=\"Negative\")\n",
    "\n",
    "plt.xticks(x, results_df[\"text\"], rotation=45, ha=\"right\")\n",
    "plt.title(\"Sentiment Probabilities for Sample News\")\n",
    "plt.xlabel(\"News\")\n",
    "plt.ylabel(\"Probability\")\n",
    "plt.legend()\n",
    "plt.tight_layout()\n",
    "plt.show()"
   ]
  },
  {
   "cell_type": "markdown",
   "metadata": {},
   "source": [
    "## 2. Generate Sample News Data\n",
    "\n",
    "Let's generate some sample news data for testing the news sentiment batch job."
   ]
  },
  {
   "cell_type": "code",
   "execution_count": null,
   "metadata": {},
   "source": [
    "# Generate sample news data\n",
    "symbols = [\"AAPL\", \"MSFT\", \"GOOGL\", \"AMZN\", \"META\"]\n",
    "sample_news_data = []\n",
    "\n",
    "for symbol in symbols:\n",
    "    # Positive news\n",
    "    sample_news_data.append({\n",
    "        \"title\": f\"{symbol} reports strong quarterly earnings, beating expectations.\",\n",
    "        \"content\": f\"{symbol} announced today that its quarterly earnings exceeded analyst expectations, driven by strong product sales and growth in services revenue.\",\n",
    "        \"published_at\": datetime.now().isoformat(),\n",
    "        \"source\": \"Financial Times\"\n",
    "    })\n",
    "    \n",
    "    # Negative news\n",
    "    sample_news_data.append({\n",
    "        \"title\": f\"{symbol} shares drop after disappointing guidance.\",\n",
    "        \"content\": f\"{symbol} shares fell today after the company provided weaker-than-expected guidance for the next quarter, citing macroeconomic headwinds and supply chain challenges.\",\n",
    "        \"published_at\": datetime.now().isoformat(),\n",
    "        \"source\": \"Wall Street Journal\"\n",
    "    })\n",
    "    \n",
    "    # Neutral news\n",
    "    sample_news_data.append({\n",
    "        \"title\": f\"{symbol} announces new product launch date.\",\n",
    "        \"content\": f\"{symbol} has announced that its new product will be launched next month, as previously scheduled. The company expects the product to be well-received by consumers.\",\n",
    "        \"published_at\": datetime.now().isoformat(),\n",
    "        \"source\": \"Bloomberg\"\n",
    "    })\n",
    "\n",
    "# Create a DataFrame\n",
    "news_df = pd.DataFrame(sample_news_data)\n",
    "\n",
    "# Display the DataFrame\n",
    "news_df.head()"
   ]
  },
  {
   "cell_type": "code",
   "execution_count": null,
   "metadata": {},
   "source": [
    "# Create directory for sample news data\n",
    "sample_news_dir = \"../data/raw/news/sample\"\n",
    "os.makedirs(sample_news_dir, exist_ok=True)\n",
    "\n",
    "# Save sample news data to Parquet\n",
    "sample_news_path = f\"{sample_news_dir}/sample_news.parquet\"\n",
    "news_df.to_parquet(sample_news_path, index=False)\n",
    "\n",
    "print(f\"Saved sample news data to {sample_news_path}\")"
   ]
  },
  {
   "cell_type": "markdown",
   "metadata": {},
   "source": [
    "## 3. Run News Sentiment Batch Job\n",
    "\n",
    "Now, let's run the news sentiment batch job on the sample news data."
   ]
  },
  {
   "cell_type": "code",
   "execution_count": null,
   "metadata": {},
   "source": [
    "# Run news sentiment batch job\n",
    "sentiment_df = compute_news_sentiment(\n",
    "    source_path=sample_news_path,\n",
    "    output_path=\"../data/features/batch/sentiment\",\n",
    "    symbols=symbols,\n",
    "    batch_size=8\n",
    ")\n",
    "\n",
    "# Display the results\n",
    "sentiment_df.head()"
   ]
  },
  {
   "cell_type": "code",
   "execution_count": null,
   "metadata": {},
   "source": [
    "# Aggregate sentiment by symbol\n",
    "agg_df = aggregate_sentiment_by_symbol(sentiment_df)\n",
    "\n",
    "# Display the aggregated results\n",
    "agg_df"
   ]
  },
  {
   "cell_type": "code",
   "execution_count": null,
   "metadata": {},
   "source": [
    "# Plot sentiment scores by symbol\n",
    "plt.figure(figsize=(12, 6))\n",
    "sns.barplot(x=\"symbol\", y=\"sentiment_score\", data=agg_df)\n",
    "plt.title(\"Sentiment Scores by Symbol\")\n",
    "plt.xlabel(\"Symbol\")\n",
    "plt.ylabel(\"Sentiment Score (positive - negative)\")\n",
    "plt.axhline(y=0, color=\"r\", linestyle=\"-\", alpha=0.3)\n",
    "plt.grid(True)\n",
    "plt.show()"
   ]
  },
  {
   "cell_type": "code",
   "execution_count": null,
   "metadata": {},
   "source": [
    "# Plot sentiment probabilities by symbol\n",
    "plt.figure(figsize=(12, 6))\n",
    "x = range(len(agg_df))\n",
    "width = 0.25\n",
    "\n",
    "plt.bar([i - width for i in x], agg_df[\"positive\"], width=width, label=\"Positive\")\n",
    "plt.bar(x, agg_df[\"neutral\"], width=width, label=\"Neutral\")\n",
    "plt.bar([i + width for i in x], agg_df[\"negative\"], width=width, label=\"Negative\")\n",
    "\n",
    "plt.xticks(x, agg_df[\"symbol\"])\n",
    "plt.title(\"Sentiment Probabilities by Symbol\")\n",
    "plt.xlabel(\"Symbol\")\n",
    "plt.ylabel(\"Probability\")\n",
    "plt.legend()\n",
    "plt.grid(True)\n",
    "plt.show()"
   ]
  },
  {
   "cell_type": "code",
   "execution_count": null,
   "metadata": {},
   "source": [
    "# Plot mention count by symbol\n",
    "plt.figure(figsize=(12, 6))\n",
    "sns.barplot(x=\"symbol\", y=\"mention_count\", data=agg_df)\n",
    "plt.title(\"Mention Count by Symbol\")\n",
    "plt.xlabel(\"Symbol\")\n",
    "plt.ylabel(\"Mention Count\")\n",
    "plt.grid(True)\n",
    "plt.show()"
   ]
  },
  {
   "cell_type": "markdown",
   "metadata": {},
   "source": [
    "## 4. Validate Feast Integration\n",
    "\n",
    "Let's validate the integration with the Feast feature store."
   ]
  },
  {
   "cell_type": "code",
   "execution_count": null,
   "metadata": {},
   "source": [
    "# Check if Feast is available\n",
    "try:\n",
    "    from feast import FeatureStore\n",
    "    feast_available = True\n",
    "except ImportError:\n",
    "    feast_available = False\n",
    "    print(\"Feast is not available. Please install it with 'pip install feast'.\")"
   ]
  },
  {
   "cell_type": "code",
   "execution_count": null,
   "metadata": {},
   "source": [
    "if feast_available:\n",
    "    # Initialize Feast feature store\n",
    "    fs = FeatureStore(repo_path=\"../infra/feast/feature_repo\")\n",
    "    \n",
    "    # Apply feature definitions\n",
    "    !cd ../infra/feast/feature_repo && feast apply\n",
    "    \n",
    "    # Materialize features\n",
    "    !cd ../infra/feast/feature_repo && feast materialize-incremental $(date +%Y-%m-%d)\n",
    "    \n",
    "    # Create entity DataFrame\n",
    "    entity_df = pd.DataFrame({\n",
    "        \"symbol\": symbols,\n",
    "        \"event_timestamp\": [datetime.now()] * len(symbols)\n",
    "    })\n",
    "    \n",
    "    # Get features from Feast\n",
    "    features = fs.get_online_features(\n",
    "        features=[\n",
    "            \"news_sentiment:positive\",\n",
    "            \"news_sentiment:neutral\",\n",
    "            \"news_sentiment:negative\",\n",
    "            \"news_sentiment:mention_count\"\n",
    "        ],\n",
    "        entity_rows=[{\"symbol\": symbol} for symbol in symbols]\n",
    "    ).to_df()\n",
    "    \n",
    "    # Display features\n",
    "    print(\"Features from Feast:\")\n",
    "    display(features)"
   ]
  },
  {
   "cell_type": "markdown",
   "metadata": {},
   "source": [
    "## 5. Combine Sentiment with Price Data\n",
    "\n",
    "Let's combine the sentiment data with price data to see if there's any correlation."
   ]
  },
  {
   "cell_type": "code",
   "execution_count": null,
   "metadata": {},
   "source": [
    "# Check if we have price data\n",
    "price_data_path = \"../data/processed/training_data.parquet\"\n",
    "if os.path.exists(price_data_path):\n",
    "    # Load price data\n",
    "    price_df = pd.read_parquet(price_data_path)\n",
    "    \n",
    "    # Filter to the latest date for each symbol\n",
    "    if \"date\" in price_df.columns:\n",
    "        latest_date = price_df[\"date\"].max()\n",
    "        price_df = price_df[price_df[\"date\"] == latest_date]\n",
    "    elif \"timestamp\" in price_df.columns:\n",
    "        price_df[\"date\"] = pd.to_datetime(price_df[\"timestamp\"]).dt.date\n",
    "        latest_date = price_df[\"date\"].max()\n",
    "        price_df = price_df[price_df[\"date\"] == latest_date]\n",
    "    \n",
    "    # Group by symbol and get the latest price\n",
    "    price_df = price_df.groupby(\"symbol\").agg({\n",
    "        \"close\": \"last\",\n",
    "        \"volume\": \"sum\"\n",
    "    }).reset_index()\n",
    "    \n",
    "    # Merge with sentiment data\n",
    "    combined_df = pd.merge(agg_df, price_df, on=\"symbol\", how=\"inner\")\n",
    "    \n",
    "    # Display the combined data\n",
    "    print(\"Combined sentiment and price data:\")\n",
    "    display(combined_df)\n",
    "    \n",
    "    # Plot sentiment score vs price\n",
    "    plt.figure(figsize=(12, 6))\n",
    "    plt.scatter(combined_df[\"sentiment_score\"], combined_df[\"close\"])\n",
    "    \n",
    "    # Add labels for each point\n",
    "    for i, row in combined_df.iterrows():\n",
    "        plt.annotate(row[\"symbol\"], (row[\"sentiment_score\"], row[\"close\"]))\n",
    "    \n",
    "    plt.title(\"Sentiment Score vs Close Price\")\n",
    "    plt.xlabel(\"Sentiment Score\")\n",
    "    plt.ylabel(\"Close Price\")\n",
    "    plt.grid(True)\n",
    "    plt.show()\n",
    "    \n",
    "    # Calculate correlation\n",
    "    correlation = combined_df[[\"sentiment_score\", \"close\"]].corr().iloc[0, 1]\n",
    "    print(f\"Correlation between sentiment score and close price: {correlation:.4f}\")\n",
    "else:\n",
    "    print(f\"Price data not found at {price_data_path}\")"
   ]
  },
  {
   "cell_type": "markdown",
   "metadata": {},
   "source": [
    "## 6. Summary and Next Steps\n",
    "\n",
    "We have successfully validated the FinBERT sentiment analysis for financial news. The sentiment analyzer correctly identifies the sentiment of financial news articles, and the batch job successfully extracts symbols from the news and computes sentiment scores.\n",
    "\n",
    "Next steps:\n",
    "1. Collect real financial news data from sources like NewsAPI, Bloomberg, or Reuters\n",
    "2. Run the sentiment analysis batch job on a regular schedule (e.g., daily)\n",
    "3. Incorporate sentiment features into the time-series model\n",
    "4. Analyze the correlation between sentiment and price movements over time\n",
    "5. Develop trading strategies based on sentiment signals"
   ]
  }
 ],
 "metadata": {
  "kernelspec": {
   "display_name": "Python 3",
   "language": "python",
   "name": "python3"
  },
  "language_info": {
   "codemirror_mode": {
    "name": "ipython",
    "version": 3
   },
   "file_extension": ".py",
   "mimetype": "text/x-python",
   "name": "python",
   "nbconvert_exporter": "python",
   "pygments_lexer": "ipython3",
   "version": "3.10.0"
  }
 },
 "nbformat": 4,
 "nbformat_minor": 4
}
