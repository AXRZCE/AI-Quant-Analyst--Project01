{
 "cells": [
  {
   "cell_type": "markdown",
   "metadata": {},
   "source": [
    "# Validate Monte Carlo Simulation\n",
    "\n",
    "This notebook validates the Monte Carlo simulation for scenario generation."
   ]
  },
  {
   "cell_type": "code",
   "execution_count": null,
   "metadata": {},
   "source": [
    "import os\n",
    "import sys\n",
    "import numpy as np\n",
    "import pandas as pd\n",
    "import matplotlib.pyplot as plt\n",
    "import seaborn as sns\n",
    "\n",
    "# Add src directory to path\n",
    "sys.path.append('../src')\n",
    "\n",
    "# Set up plotting\n",
    "sns.set_style('whitegrid')\n",
    "plt.rcParams['figure.figsize'] = (12, 8)"
   ]
  },
  {
   "cell_type": "markdown",
   "metadata": {},
   "source": [
    "## 1. Import Monte Carlo Simulation Module\n",
    "\n",
    "First, let's import the Monte Carlo simulation module."
   ]
  },
  {
   "cell_type": "code",
   "execution_count": null,
   "metadata": {},
   "source": [
    "# Import Monte Carlo simulation module\n",
    "from uncertainty.monte_carlo_sim import (\n",
    "    run_simulation,\n",
    "    run_correlated_simulation,\n",
    "    calculate_scenario_statistics,\n",
    "    plot_scenarios,\n",
    "    plot_return_distribution\n",
    ")"
   ]
  },
  {
   "cell_type": "markdown",
   "metadata": {},
   "source": [
    "## 2. Single Asset Simulation\n",
    "\n",
    "Let's run a Monte Carlo simulation for a single asset."
   ]
  },
  {
   "cell_type": "code",
   "execution_count": null,
   "metadata": {},
   "source": [
    "# Set parameters\n",
    "S0 = 100.0  # Initial price\n",
    "mu = 0.0005  # Daily drift (annualized: ~12.6%)\n",
    "sigma = 0.02  # Daily volatility (annualized: ~31.7%)\n",
    "days = 30  # Simulation horizon in days\n",
    "steps_per_day = 10  # Number of steps per day\n",
    "n_paths = 1000  # Number of paths to simulate\n",
    "\n",
    "# Run simulation\n",
    "paths = run_simulation(S0, mu, sigma, days, steps_per_day, n_paths)\n",
    "\n",
    "# Print simulation shape\n",
    "print(f\"Simulation shape: {paths.shape}\")"
   ]
  },
  {
   "cell_type": "code",
   "execution_count": null,
   "metadata": {},
   "source": [
    "# Plot scenarios\n",
    "fig = plot_scenarios(\n",
    "    paths,\n",
    "    n_samples=100,\n",
    "    quantiles=[0.05, 0.25, 0.5, 0.75, 0.95],\n",
    "    title=\"Monte Carlo Simulation (30 Days)\",\n",
    "    xlabel=\"Time Steps\",\n",
    "    ylabel=\"Price\"\n",
    ")\n",
    "plt.show()"
   ]
  },
  {
   "cell_type": "code",
   "execution_count": null,
   "metadata": {},
   "source": [
    "# Plot return distribution\n",
    "fig = plot_return_distribution(\n",
    "    paths,\n",
    "    title=\"Return Distribution (30 Days)\",\n",
    "    xlabel=\"Return\",\n",
    "    ylabel=\"Frequency\"\n",
    ")\n",
    "plt.show()"
   ]
  },
  {
   "cell_type": "code",
   "execution_count": null,
   "metadata": {},
   "source": [
    "# Calculate scenario statistics\n",
    "stats = calculate_scenario_statistics(paths)\n",
    "\n",
    "# Print statistics\n",
    "print(f\"Mean return: {stats['mean_return']:.2%}\")\n",
    "print(f\"Standard deviation: {stats['std_return']:.2%}\")\n",
    "print(f\"95% VaR: {stats['var_95']:.2%}\")\n",
    "print(f\"99% VaR: {stats['var_99']:.2%}\")\n",
    "print(f\"95% Expected Shortfall: {stats['es_95']:.2%}\")\n",
    "print(f\"99% Expected Shortfall: {stats['es_99']:.2%}\")\n",
    "\n",
    "# Print quantiles\n",
    "print(\"\\nReturn quantiles:\")\n",
    "quantiles = [0.01, 0.05, 0.1, 0.25, 0.5, 0.75, 0.9, 0.95, 0.99]\n",
    "for i, q in enumerate(quantiles):\n",
    "    print(f\"{q:.0%} quantile: {stats['quantile_returns'][i]:.2%}\")"
   ]
  },
  {
   "cell_type": "markdown",
   "metadata": {},
   "source": [
    "## 3. Multiple Asset Simulation\n",
    "\n",
    "Now, let's run a Monte Carlo simulation for multiple correlated assets."
   ]
  },
  {
   "cell_type": "code",
   "execution_count": null,
   "metadata": {},
   "source": [
    "# Set parameters for multiple assets\n",
    "S0 = [100.0, 150.0, 200.0]  # Initial prices\n",
    "mu = [0.0005, 0.0007, 0.0003]  # Daily drifts\n",
    "sigma = [0.02, 0.03, 0.015]  # Daily volatilities\n",
    "\n",
    "# Correlation matrix\n",
    "corr_matrix = np.array([\n",
    "    [1.0, 0.7, 0.3],\n",
    "    [0.7, 1.0, 0.5],\n",
    "    [0.3, 0.5, 1.0]\n",
    "])\n",
    "\n",
    "# Run correlated simulation\n",
    "corr_paths = run_correlated_simulation(\n",
    "    S0, mu, sigma, corr_matrix, days, steps_per_day, n_paths\n",
    ")\n",
    "\n",
    "# Print simulation shape\n",
    "print(f\"Correlated simulation shape: {corr_paths.shape}\")"
   ]
  },
  {
   "cell_type": "code",
   "execution_count": null,
   "metadata": {},
   "source": [
    "# Plot scenarios for each asset\n",
    "for i in range(len(S0)):\n",
    "    fig = plot_scenarios(\n",
    "        corr_paths[i],\n",
    "        n_samples=50,\n",
    "        quantiles=[0.05, 0.25, 0.5, 0.75, 0.95],\n",
    "        title=f\"Monte Carlo Simulation - Asset {i+1}\",\n",
    "        xlabel=\"Time Steps\",\n",
    "        ylabel=\"Price\"\n",
    "    )\n",
    "    plt.show()"
   ]
  },
  {
   "cell_type": "code",
   "execution_count": null,
   "metadata": {},
   "source": [
    "# Plot return distributions for each asset\n",
    "for i in range(len(S0)):\n",
    "    fig = plot_return_distribution(\n",
    "        corr_paths[i],\n",
    "        title=f\"Return Distribution - Asset {i+1}\",\n",
    "        xlabel=\"Return\",\n",
    "        ylabel=\"Frequency\"\n",
    "    )\n",
    "    plt.show()"
   ]
  },
  {
   "cell_type": "code",
   "execution_count": null,
   "metadata": {},
   "source": [
    "# Calculate scenario statistics for each asset\n",
    "for i in range(len(S0)):\n",
    "    stats = calculate_scenario_statistics(corr_paths[i])\n",
    "    \n",
    "    print(f\"\\nAsset {i+1} Statistics:\")\n",
    "    print(f\"Mean return: {stats['mean_return']:.2%}\")\n",
    "    print(f\"Standard deviation: {stats['std_return']:.2%}\")\n",
    "    print(f\"95% VaR: {stats['var_95']:.2%}\")\n",
    "    print(f\"99% VaR: {stats['var_99']:.2%}\")"
   ]
  },
  {
   "cell_type": "markdown",
   "metadata": {},
   "source": [
    "## 4. Analyze Correlations\n",
    "\n",
    "Let's analyze the correlations between the simulated assets."
   ]
  },
  {
   "cell_type": "code",
   "execution_count": null,
   "metadata": {},
   "source": [
    "# Calculate returns for each asset\n",
    "returns = np.zeros((len(S0), n_paths))\n",
    "for i in range(len(S0)):\n",
    "    returns[i] = corr_paths[i, :, -1] / corr_paths[i, :, 0] - 1\n",
    "\n",
    "# Calculate correlation matrix of returns\n",
    "return_corr = np.corrcoef(returns)\n",
    "\n",
    "# Print correlation matrices\n",
    "print(\"Input correlation matrix:\")\n",
    "print(corr_matrix)\n",
    "print(\"\\nOutput correlation matrix:\")\n",
    "print(return_corr)\n",
    "\n",
    "# Plot correlation matrices\n",
    "fig, axes = plt.subplots(1, 2, figsize=(16, 6))\n",
    "\n",
    "# Plot input correlation matrix\n",
    "sns.heatmap(corr_matrix, annot=True, cmap=\"coolwarm\", vmin=-1, vmax=1, ax=axes[0])\n",
    "axes[0].set_title(\"Input Correlation Matrix\")\n",
    "\n",
    "# Plot output correlation matrix\n",
    "sns.heatmap(return_corr, annot=True, cmap=\"coolwarm\", vmin=-1, vmax=1, ax=axes[1])\n",
    "axes[1].set_title(\"Output Correlation Matrix\")\n",
    "\n",
    "plt.tight_layout()\n",
    "plt.show()"
   ]
  },
  {
   "cell_type": "markdown",
   "metadata": {},
   "source": [
    "## 5. Portfolio Simulation\n",
    "\n",
    "Let's simulate a portfolio of assets."
   ]
  },
  {
   "cell_type": "code",
   "execution_count": null,
   "metadata": {},
   "source": [
    "# Define portfolio weights\n",
    "weights = np.array([0.4, 0.3, 0.3])\n",
    "\n",
    "# Calculate portfolio value paths\n",
    "portfolio_paths = np.zeros((n_paths, corr_paths.shape[2]))\n",
    "for i in range(len(S0)):\n",
    "    portfolio_paths += weights[i] * corr_paths[i] / S0[i]\n",
    "\n",
    "# Normalize to start at 100\n",
    "portfolio_paths *= 100\n",
    "\n",
    "# Plot portfolio scenarios\n",
    "fig = plot_scenarios(\n",
    "    portfolio_paths,\n",
    "    n_samples=100,\n",
    "    quantiles=[0.05, 0.25, 0.5, 0.75, 0.95],\n",
    "    title=\"Portfolio Monte Carlo Simulation\",\n",
    "    xlabel=\"Time Steps\",\n",
    "    ylabel=\"Portfolio Value\"\n",
    ")\n",
    "plt.show()"
   ]
  },
  {
   "cell_type": "code",
   "execution_count": null,
   "metadata": {},
   "source": [
    "# Plot portfolio return distribution\n",
    "fig = plot_return_distribution(\n",
    "    portfolio_paths,\n",
    "    title=\"Portfolio Return Distribution\",\n",
    "    xlabel=\"Return\",\n",
    "    ylabel=\"Frequency\"\n",
    ")\n",
    "plt.show()"
   ]
  },
  {
   "cell_type": "code",
   "execution_count": null,
   "metadata": {},
   "source": [
    "# Calculate portfolio statistics\n",
    "portfolio_stats = calculate_scenario_statistics(portfolio_paths)\n",
    "\n",
    "# Print portfolio statistics\n",
    "print(\"Portfolio Statistics:\")\n",
    "print(f\"Mean return: {portfolio_stats['mean_return']:.2%}\")\n",
    "print(f\"Standard deviation: {portfolio_stats['std_return']:.2%}\")\n",
    "print(f\"95% VaR: {portfolio_stats['var_95']:.2%}\")\n",
    "print(f\"99% VaR: {portfolio_stats['var_99']:.2%}\")\n",
    "print(f\"95% Expected Shortfall: {portfolio_stats['es_95']:.2%}\")\n",
    "print(f\"99% Expected Shortfall: {portfolio_stats['es_99']:.2%}\")"
   ]
  },
  {
   "cell_type": "markdown",
   "metadata": {},
   "source": [
    "## 6. Sensitivity Analysis\n",
    "\n",
    "Let's perform a sensitivity analysis to see how the simulation results change with different parameters."
   ]
  },
  {
   "cell_type": "code",
   "execution_count": null,
   "metadata": {},
   "source": [
    "# Define parameter ranges\n",
    "mu_range = np.linspace(0.0, 0.001, 5)  # Daily drift\n",
    "sigma_range = np.linspace(0.01, 0.03, 5)  # Daily volatility\n",
    "\n",
    "# Initialize results\n",
    "results = []\n",
    "\n",
    "# Run simulations for each parameter combination\n",
    "for mu in mu_range:\n",
    "    for sigma in sigma_range:\n",
    "        # Run simulation\n",
    "        paths = run_simulation(S0=100.0, mu=mu, sigma=sigma, days=30, steps_per_day=10, n_paths=500)\n",
    "        \n",
    "        # Calculate statistics\n",
    "        stats = calculate_scenario_statistics(paths)\n",
    "        \n",
    "        # Store results\n",
    "        results.append({\n",
    "            \"mu\": mu,\n",
    "            \"sigma\": sigma,\n",
    "            \"mean_return\": stats[\"mean_return\"],\n",
    "            \"std_return\": stats[\"std_return\"],\n",
    "            \"var_95\": stats[\"var_95\"],\n",
    "            \"var_99\": stats[\"var_99\"]\n",
    "        })\n",
    "\n",
    "# Convert to DataFrame\n",
    "results_df = pd.DataFrame(results)\n",
    "\n",
    "# Display results\n",
    "results_df"
   ]
  },
  {
   "cell_type": "code",
   "execution_count": null,
   "metadata": {},
   "source": [
    "# Plot sensitivity of mean return to mu and sigma\n",
    "plt.figure(figsize=(12, 8))\n",
    "\n",
    "# Reshape data for heatmap\n",
    "mu_values = results_df[\"mu\"].unique()\n",
    "sigma_values = results_df[\"sigma\"].unique()\n",
    "mean_return_matrix = results_df[\"mean_return\"].values.reshape(len(mu_values), len(sigma_values))\n",
    "\n",
    "# Plot heatmap\n",
    "sns.heatmap(\n",
    "    mean_return_matrix,\n",
    "    annot=True,\n",
    "    fmt=\".2%\",\n",
    "    xticklabels=[f\"{sigma:.2%}\" for sigma in sigma_values],\n",
    "    yticklabels=[f\"{mu:.2%}\" for mu in mu_values],\n",
    "    cmap=\"viridis\"\n",
    ")\n",
    "\n",
    "plt.title(\"Mean Return Sensitivity\")\n",
    "plt.xlabel(\"Sigma (Daily Volatility)\")\n",
    "plt.ylabel(\"Mu (Daily Drift)\")\n",
    "plt.show()"
   ]
  },
  {
   "cell_type": "code",
   "execution_count": null,
   "metadata": {},
   "source": [
    "# Plot sensitivity of 95% VaR to mu and sigma\n",
    "plt.figure(figsize=(12, 8))\n",
    "\n",
    "# Reshape data for heatmap\n",
    "var_95_matrix = results_df[\"var_95\"].values.reshape(len(mu_values), len(sigma_values))\n",
    "\n",
    "# Plot heatmap\n",
    "sns.heatmap(\n",
    "    var_95_matrix,\n",
    "    annot=True,\n",
    "    fmt=\".2%\",\n",
    "    xticklabels=[f\"{sigma:.2%}\" for sigma in sigma_values],\n",
    "    yticklabels=[f\"{mu:.2%}\" for mu in mu_values],\n",
    "    cmap=\"coolwarm_r\"\n",
    ")\n",
    "\n",
    "plt.title(\"95% VaR Sensitivity\")\n",
    "plt.xlabel(\"Sigma (Daily Volatility)\")\n",
    "plt.ylabel(\"Mu (Daily Drift)\")\n",
    "plt.show()"
   ]
  },
  {
   "cell_type": "markdown",
   "metadata": {},
   "source": [
    "## 7. Save Simulation Results\n",
    "\n",
    "Let's save the simulation results for later use."
   ]
  },
  {
   "cell_type": "code",
   "execution_count": null,
   "metadata": {},
   "source": [
    "# Create results directory if it doesn't exist\n",
    "os.makedirs(\"../results\", exist_ok=True)\n",
    "\n",
    "# Save simulation results\n",
    "np.save(\"../results/single_asset_paths.npy\", paths)\n",
    "np.save(\"../results/multi_asset_paths.npy\", corr_paths)\n",
    "np.save(\"../results/portfolio_paths.npy\", portfolio_paths)\n",
    "\n",
    "# Save sensitivity analysis results\n",
    "results_df.to_csv(\"../results/sensitivity_analysis.csv\", index=False)\n",
    "\n",
    "print(\"Simulation results saved to ../results/ directory\")"
   ]
  },
  {
   "cell_type": "markdown",
   "metadata": {},
   "source": [
    "## 8. Summary\n",
    "\n",
    "In this notebook, we have validated the Monte Carlo simulation for scenario generation. We have:\n",
    "\n",
    "1. Run a Monte Carlo simulation for a single asset\n",
    "2. Run a Monte Carlo simulation for multiple correlated assets\n",
    "3. Analyzed the correlations between the simulated assets\n",
    "4. Simulated a portfolio of assets\n",
    "5. Performed a sensitivity analysis\n",
    "6. Saved the simulation results for later use\n",
    "\n",
    "The Monte Carlo simulation provides a powerful tool for scenario generation and risk management in financial applications."
   ]
  }
 ],
 "metadata": {
  "kernelspec": {
   "display_name": "Python 3",
   "language": "python",
   "name": "python3"
  },
  "language_info": {
   "codemirror_mode": {
    "name": "ipython",
    "version": 3
   },
   "file_extension": ".py",
   "mimetype": "text/x-python",
   "name": "python",
   "nbconvert_exporter": "python",
   "pygments_lexer": "ipython3",
   "version": "3.10.0"
  }
 },
 "nbformat": 4,
 "nbformat_minor": 4
}
