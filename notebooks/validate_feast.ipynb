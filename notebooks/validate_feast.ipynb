{
 "cells": [
  {
   "cell_type": "markdown",
   "metadata": {},
   "source": [
    "# Feast Feature Store Validation\n",
    "\n",
    "This notebook validates the Feast feature store integration."
   ]
  },
  {
   "cell_type": "code",
   "execution_count": null,
   "metadata": {},
   "source": [
    "import os\n",
    "import pandas as pd\n",
    "import numpy as np\n",
    "import matplotlib.pyplot as plt\n",
    "import seaborn as sns\n",
    "from datetime import datetime, timedelta\n",
    "from feast import FeatureStore\n",
    "\n",
    "# Set up plotting\n",
    "sns.set_style('whitegrid')\n",
    "plt.rcParams['figure.figsize'] = (12, 8)"
   ]
  },
  {
   "cell_type": "markdown",
   "metadata": {},
   "source": [
    "## 1. Initialize Feast Feature Store"
   ]
  },
  {
   "cell_type": "code",
   "execution_count": null,
   "metadata": {},
   "source": [
    "# Initialize Feast feature store\n",
    "repo_path = \"../infra/feast/feature_repo\"\n",
    "fs = FeatureStore(repo_path=repo_path)\n",
    "\n",
    "print(f\"Initialized Feast feature store at {repo_path}\")"
   ]
  },
  {
   "cell_type": "markdown",
   "metadata": {},
   "source": [
    "## 2. Apply Feature Definitions\n",
    "\n",
    "First, let's apply the feature definitions to register them in the feature store."
   ]
  },
  {
   "cell_type": "code",
   "execution_count": null,
   "metadata": {},
   "source": [
    "# Apply feature definitions\n",
    "!cd {repo_path} && feast apply"
   ]
  },
  {
   "cell_type": "markdown",
   "metadata": {},
   "source": [
    "## 3. List Feature Views and Entities"
   ]
  },
  {
   "cell_type": "code",
   "execution_count": null,
   "metadata": {},
   "source": [
    "# List feature views\n",
    "feature_views = fs.list_feature_views()\n",
    "\n",
    "print(\"Feature Views:\")\n",
    "for fv in feature_views:\n",
    "    print(f\"- {fv.name}: {fv.description}\")\n",
    "    print(f\"  Entities: {[entity for entity in fv.entities]}\")\n",
    "    print(f\"  Features: {[field.name for field in fv.schema]}\")\n",
    "    print(f\"  TTL: {fv.ttl}\")\n",
    "    print()"
   ]
  },
  {
   "cell_type": "code",
   "execution_count": null,
   "metadata": {},
   "source": [
    "# List entities\n",
    "entities = fs.list_entities()\n",
    "\n",
    "print(\"Entities:\")\n",
    "for entity in entities:\n",
    "    print(f\"- {entity.name}: {entity.description}\")\n",
    "    print(f\"  Value Type: {entity.value_type}\")\n",
    "    print(f\"  Join Keys: {entity.join_keys}\")\n",
    "    print()"
   ]
  },
  {
   "cell_type": "code",
   "execution_count": null,
   "metadata": {},
   "source": [
    "# List feature services\n",
    "feature_services = fs.list_feature_services()\n",
    "\n",
    "print(\"Feature Services:\")\n",
    "for service in feature_services:\n",
    "    print(f\"- {service.name}: {service.description}\")\n",
    "    print(f\"  Features: {[f.name for f in service.features]}\")\n",
    "    print()"
   ]
  },
  {
   "cell_type": "markdown",
   "metadata": {},
   "source": [
    "## 4. Materialize Features\n",
    "\n",
    "Let's materialize the features to the online store."
   ]
  },
  {
   "cell_type": "code",
   "execution_count": null,
   "metadata": {},
   "source": [
    "# Materialize features\n",
    "end_date = datetime.now()\n",
    "start_date = end_date - timedelta(days=7)\n",
    "\n",
    "print(f\"Materializing features from {start_date} to {end_date}\")\n",
    "!cd {repo_path} && feast materialize {start_date.isoformat()} {end_date.isoformat()}"
   ]
  },
  {
   "cell_type": "markdown",
   "metadata": {},
   "source": [
    "## 5. Retrieve Features\n",
    "\n",
    "Now, let's retrieve features from the feature store."
   ]
  },
  {
   "cell_type": "code",
   "execution_count": null,
   "metadata": {},
   "source": [
    "# Define entity rows\n",
    "entity_rows = [\n",
    "    {\"symbol\": \"AAPL\"},\n",
    "    {\"symbol\": \"MSFT\"},\n",
    "    {\"symbol\": \"GOOGL\"}\n",
    "]"
   ]
  },
  {
   "cell_type": "code",
   "execution_count": null,
   "metadata": {},
   "source": [
    "# Retrieve technical indicators\n",
    "technical_features = [\n",
    "    \"technical_indicators:ma_5\",\n",
    "    \"technical_indicators:ma_15\",\n",
    "    \"technical_indicators:ma_60\",\n",
    "    \"technical_indicators:rsi_14\",\n",
    "    \"technical_indicators:atr_14\"\n",
    "]\n",
    "\n",
    "try:\n",
    "    technical_df = fs.get_online_features(\n",
    "        features=technical_features,\n",
    "        entity_rows=entity_rows\n",
    "    ).to_df()\n",
    "    \n",
    "    print(\"Technical Indicators:\")\n",
    "    display(technical_df)\n",
    "except Exception as e:\n",
    "    print(f\"Error retrieving technical indicators: {e}\")"
   ]
  },
  {
   "cell_type": "code",
   "execution_count": null,
   "metadata": {},
   "source": [
    "# Retrieve fundamental indicators\n",
    "fundamental_features = [\n",
    "    \"fundamental_indicators:price_to_earnings\",\n",
    "    \"fundamental_indicators:debt_to_equity\",\n",
    "    \"fundamental_indicators:earnings_surprise\",\n",
    "    \"fundamental_indicators:pe_category\",\n",
    "    \"fundamental_indicators:avg_sentiment\",\n",
    "    \"fundamental_indicators:mention_count\"\n",
    "]\n",
    "\n",
    "try:\n",
    "    fundamental_df = fs.get_online_features(\n",
    "        features=fundamental_features,\n",
    "        entity_rows=entity_rows\n",
    "    ).to_df()\n",
    "    \n",
    "    print(\"Fundamental Indicators:\")\n",
    "    display(fundamental_df)\n",
    "except Exception as e:\n",
    "    print(f\"Error retrieving fundamental indicators: {e}\")"
   ]
  },
  {
   "cell_type": "code",
   "execution_count": null,
   "metadata": {},
   "source": [
    "# Retrieve streaming features\n",
    "streaming_features = [\n",
    "    \"streaming_features:vwap_1m\",\n",
    "    \"streaming_features:vwap_5m\",\n",
    "    \"streaming_features:volatility_1m\",\n",
    "    \"streaming_features:volatility_5m\",\n",
    "    \"streaming_features:momentum_1m\",\n",
    "    \"streaming_features:momentum_5m\"\n",
    "]\n",
    "\n",
    "try:\n",
    "    streaming_df = fs.get_online_features(\n",
    "        features=streaming_features,\n",
    "        entity_rows=entity_rows\n",
    "    ).to_df()\n",
    "    \n",
    "    print(\"Streaming Features:\")\n",
    "    display(streaming_df)\n",
    "except Exception as e:\n",
    "    print(f\"Error retrieving streaming features: {e}\")"
   ]
  },
  {
   "cell_type": "markdown",
   "metadata": {},
   "source": [
    "## 6. Retrieve Combined Features\n",
    "\n",
    "Let's retrieve all features using the combined feature service."
   ]
  },
  {
   "cell_type": "code",
   "execution_count": null,
   "metadata": {},
   "source": [
    "# Retrieve all features using the combined feature service\n",
    "try:\n",
    "    combined_df = fs.get_online_features(\n",
    "        features=[\n",
    "            \"technical_indicators:ma_5\",\n",
    "            \"technical_indicators:rsi_14\",\n",
    "            \"fundamental_indicators:price_to_earnings\",\n",
    "            \"fundamental_indicators:avg_sentiment\",\n",
    "            \"streaming_features:vwap_1m\",\n",
    "            \"streaming_features:volatility_1m\"\n",
    "        ],\n",
    "        entity_rows=entity_rows\n",
    "    ).to_df()\n",
    "    \n",
    "    print(\"Combined Features:\")\n",
    "    display(combined_df)\n",
    "except Exception as e:\n",
    "    print(f\"Error retrieving combined features: {e}\")"
   ]
  },
  {
   "cell_type": "markdown",
   "metadata": {},
   "source": [
    "## 7. Historical Feature Retrieval\n",
    "\n",
    "Let's retrieve historical features for training a model."
   ]
  },
  {
   "cell_type": "code",
   "execution_count": null,
   "metadata": {},
   "source": [
    "# Create an entity DataFrame for historical feature retrieval\n",
    "entity_df = pd.DataFrame(\n",
    "    {\n",
    "        \"symbol\": [\"AAPL\", \"MSFT\", \"GOOGL\"],\n",
    "        \"event_timestamp\": [datetime.now() - timedelta(days=1)] * 3\n",
    "    }\n",
    ")"
   ]
  },
  {
   "cell_type": "code",
   "execution_count": null,
   "metadata": {},
   "source": [
    "# Retrieve historical features\n",
    "try:\n",
    "    historical_features = fs.get_historical_features(\n",
    "        entity_df=entity_df,\n",
    "        features=[\n",
    "            \"technical_indicators:ma_5\",\n",
    "            \"technical_indicators:rsi_14\",\n",
    "            \"fundamental_indicators:price_to_earnings\",\n",
    "            \"streaming_features:vwap_1m\"\n",
    "        ]\n",
    "    )\n",
    "    \n",
    "    historical_df = historical_features.to_df()\n",
    "    \n",
    "    print(\"Historical Features:\")\n",
    "    display(historical_df)\n",
    "except Exception as e:\n",
    "    print(f\"Error retrieving historical features: {e}\")"
   ]
  },
  {
   "cell_type": "markdown",
   "metadata": {},
   "source": [
    "## 8. Feature Statistics and Visualization"
   ]
  },
  {
   "cell_type": "code",
   "execution_count": null,
   "metadata": {},
   "source": [
    "# Visualize feature distributions\n",
    "def visualize_features(df, title):\n",
    "    if df is None or len(df) == 0:\n",
    "        print(f\"No data available for {title}\")\n",
    "        return\n",
    "    \n",
    "    # Select numeric columns\n",
    "    numeric_cols = df.select_dtypes(include=[np.number]).columns.tolist()\n",
    "    numeric_cols = [col for col in numeric_cols if col != 'symbol']\n",
    "    \n",
    "    if not numeric_cols:\n",
    "        print(f\"No numeric features available for {title}\")\n",
    "        return\n",
    "    \n",
    "    # Create a figure with subplots\n",
    "    n_cols = min(3, len(numeric_cols))\n",
    "    n_rows = (len(numeric_cols) + n_cols - 1) // n_cols\n",
    "    \n",
    "    fig, axes = plt.subplots(n_rows, n_cols, figsize=(15, n_rows * 4))\n",
    "    axes = axes.flatten() if n_rows * n_cols > 1 else [axes]\n",
    "    \n",
    "    # Plot each feature\n",
    "    for i, col in enumerate(numeric_cols):\n",
    "        if i < len(axes):\n",
    "            ax = axes[i]\n",
    "            if df[col].nunique() > 1:  # Only plot if there's variation\n",
    "                sns.barplot(x='symbol', y=col, data=df, ax=ax)\n",
    "                ax.set_title(f'{col} by Symbol')\n",
    "                ax.set_xlabel('Symbol')\n",
    "                ax.set_ylabel(col)\n",
    "                ax.tick_params(axis='x', rotation=45)\n",
    "            else:\n",
    "                ax.text(0.5, 0.5, f\"No variation in {col}\", \n",
    "                        horizontalalignment='center', verticalalignment='center')\n",
    "                ax.set_title(f'{col} by Symbol')\n",
    "                ax.axis('off')\n",
    "    \n",
    "    # Hide unused subplots\n",
    "    for i in range(len(numeric_cols), len(axes)):\n",
    "        axes[i].axis('off')\n",
    "    \n",
    "    plt.suptitle(title, fontsize=16)\n",
    "    plt.tight_layout(rect=[0, 0, 1, 0.97])\n",
    "    plt.show()"
   ]
  },
  {
   "cell_type": "code",
   "execution_count": null,
   "metadata": {},
   "source": [
    "# Visualize technical indicators\n",
    "try:\n",
    "    visualize_features(technical_df, \"Technical Indicators\")\n",
    "except Exception as e:\n",
    "    print(f\"Error visualizing technical indicators: {e}\")\n",
    "\n",
    "# Visualize fundamental indicators\n",
    "try:\n",
    "    visualize_features(fundamental_df, \"Fundamental Indicators\")\n",
    "except Exception as e:\n",
    "    print(f\"Error visualizing fundamental indicators: {e}\")\n",
    "\n",
    "# Visualize streaming features\n",
    "try:\n",
    "    visualize_features(streaming_df, \"Streaming Features\")\n",
    "except Exception as e:\n",
    "    print(f\"Error visualizing streaming features: {e}\")"
   ]
  },
  {
   "cell_type": "markdown",
   "metadata": {},
   "source": [
    "## 9. Summary and Findings"
   ]
  },
  {
   "cell_type": "markdown",
   "metadata": {},
   "source": [
    "### Feast Integration\n",
    "- Successfully registered feature views, entities, and feature services\n",
    "- Materialized features to the online store\n",
    "- Retrieved features for online serving and historical training\n",
    "\n",
    "### Feature Consistency\n",
    "- The same features are available for both online serving and offline training\n",
    "- Feature values are consistent across different retrieval methods\n",
    "\n",
    "### Feature Coverage\n",
    "- Technical indicators provide trend and volatility information\n",
    "- Fundamental indicators provide valuation and sentiment context\n",
    "- Streaming features provide real-time market signals\n",
    "\n",
    "### Next Steps\n",
    "- Use these features to train machine learning models\n",
    "- Implement a model serving layer that retrieves features from Feast\n",
    "- Set up automated feature pipelines for continuous updates"
   ]
  }
 ],
 "metadata": {
  "kernelspec": {
   "display_name": "Python 3",
   "language": "python",
   "name": "python3"
  },
  "language_info": {
   "codemirror_mode": {
    "name": "ipython",
    "version": 3
   },
   "file_extension": ".py",
   "mimetype": "text/x-python",
   "name": "python",
   "nbconvert_exporter": "python",
   "pygments_lexer": "ipython3",
   "version": "3.10.0"
  }
 },
 "nbformat": 4,
 "nbformat_minor": 4
}
